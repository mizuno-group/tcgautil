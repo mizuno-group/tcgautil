{
 "cells": [
  {
   "cell_type": "markdown",
   "metadata": {},
   "source": [
    "# Sample Code to handle TCGA data"
   ]
  },
  {
   "cell_type": "code",
   "execution_count": 1,
   "metadata": {},
   "outputs": [
    {
     "name": "stderr",
     "output_type": "stream",
     "text": [
      "In C:\\ProgramData\\Anaconda3\\envs\\JL\\lib\\site-packages\\matplotlib\\mpl-data\\stylelib\\_classic_test.mplstyle: \n",
      "The text.latex.preview rcparam was deprecated in Matplotlib 3.3 and will be removed two minor releases later.\n",
      "In C:\\ProgramData\\Anaconda3\\envs\\JL\\lib\\site-packages\\matplotlib\\mpl-data\\stylelib\\_classic_test.mplstyle: \n",
      "The mathtext.fallback_to_cm rcparam was deprecated in Matplotlib 3.3 and will be removed two minor releases later.\n",
      "In C:\\ProgramData\\Anaconda3\\envs\\JL\\lib\\site-packages\\matplotlib\\mpl-data\\stylelib\\_classic_test.mplstyle: Support for setting the 'mathtext.fallback_to_cm' rcParam is deprecated since 3.3 and will be removed two minor releases later; use 'mathtext.fallback : 'cm' instead.\n",
      "In C:\\ProgramData\\Anaconda3\\envs\\JL\\lib\\site-packages\\matplotlib\\mpl-data\\stylelib\\_classic_test.mplstyle: \n",
      "The validate_bool_maybe_none function was deprecated in Matplotlib 3.3 and will be removed two minor releases later.\n",
      "In C:\\ProgramData\\Anaconda3\\envs\\JL\\lib\\site-packages\\matplotlib\\mpl-data\\stylelib\\_classic_test.mplstyle: \n",
      "The savefig.jpeg_quality rcparam was deprecated in Matplotlib 3.3 and will be removed two minor releases later.\n",
      "In C:\\ProgramData\\Anaconda3\\envs\\JL\\lib\\site-packages\\matplotlib\\mpl-data\\stylelib\\_classic_test.mplstyle: \n",
      "The keymap.all_axes rcparam was deprecated in Matplotlib 3.3 and will be removed two minor releases later.\n",
      "In C:\\ProgramData\\Anaconda3\\envs\\JL\\lib\\site-packages\\matplotlib\\mpl-data\\stylelib\\_classic_test.mplstyle: \n",
      "The animation.avconv_path rcparam was deprecated in Matplotlib 3.3 and will be removed two minor releases later.\n",
      "In C:\\ProgramData\\Anaconda3\\envs\\JL\\lib\\site-packages\\matplotlib\\mpl-data\\stylelib\\_classic_test.mplstyle: \n",
      "The animation.avconv_args rcparam was deprecated in Matplotlib 3.3 and will be removed two minor releases later.\n",
      "C:\\ProgramData\\Anaconda3\\envs\\JL\\lib\\site-packages\\statsmodels\\tools\\_testing.py:19: FutureWarning: pandas.util.testing is deprecated. Use the functions in the public API at pandas.testing instead.\n",
      "  import pandas.util.testing as tm\n"
     ]
    }
   ],
   "source": [
    "import sys\n",
    "sys.path.append(\"C:/github\") # path for tcgautil module\n",
    "sys.path.append(\"C:/github/deconv\") # path for deconv module\n",
    "from tcgautil.tcgautil import tcgautil as util"
   ]
  },
  {
   "cell_type": "code",
   "execution_count": 2,
   "metadata": {},
   "outputs": [],
   "source": [
    "### file path\n",
    "# TCGA data\n",
    "transcript=\"D:/2018KatsuhisaM/datasource/Prognosis/hcc/tcga/gdc_download_20201208_111743.796983\"\n",
    "meta=\"D:/2018KatsuhisaM/datasource/Prognosis/hcc/tcga/metadata.cart.2020-12-08.json\"\n",
    "sample=\"D:/2018KatsuhisaM/datasource/Prognosis/hcc/tcga/gdc_sample_sheet.2020-12-08.tsv\"\n",
    "clinical=\"D:/2018KatsuhisaM/datasource/Prognosis/hcc/tcga/clinical.cart.2020-12-08/clinical.tsv\"\n",
    "\n",
    "# annotation\n",
    "file_ann = \"D:/2018KatsuhisaM/datasource/ann_file/HumanEnsembleID2HGNC.csv\"\n",
    "\n",
    "# For deconvolution reference\n",
    "file_ref = \"D:/2018KatsuhisaM/datasource/Deconvolution/cibersort/exp_all_quantile.csv\"\n",
    "\n",
    "# export folder\n",
    "folder = \"D:/2018KatsuhisaM/datasource/Prognosis/hcc/tcga/data/\""
   ]
  },
  {
   "cell_type": "code",
   "execution_count": 3,
   "metadata": {},
   "outputs": [
    {
     "name": "stdout",
     "output_type": "stream",
     "text": [
      "file loading\n",
      "completed\n"
     ]
    }
   ],
   "source": [
    "# load data from files\n",
    "dat = util.tcgautil()\n",
    "dat.load(transcript=transcript, meta=meta, sample=sample, clinical=clinical)"
   ]
  },
  {
   "cell_type": "code",
   "execution_count": 4,
   "metadata": {},
   "outputs": [
    {
     "name": "stdout",
     "output_type": "stream",
     "text": [
      "Conducting ComBat : plate\n",
      "Found 20 batches.\n",
      "Adjusting for 0 covariate(s) or covariate level(s).\n",
      "Standardizing Data across genes.\n",
      "Fitting L/S model and finding priors.\n"
     ]
    },
    {
     "name": "stderr",
     "output_type": "stream",
     "text": [
      "C:\\ProgramData\\Anaconda3\\envs\\JL\\lib\\site-packages\\numpy\\core\\_asarray.py:83: VisibleDeprecationWarning: Creating an ndarray from ragged nested sequences (which is a list-or-tuple of lists-or-tuples-or ndarrays with different lengths or shapes) is deprecated. If you meant to do this, you must specify 'dtype=object' when creating the ndarray\n",
      "  return array(a, dtype, copy=False, order=order)\n"
     ]
    },
    {
     "name": "stdout",
     "output_type": "stream",
     "text": [
      "Finding parametric adjustments.\n",
      "Adjusting the Data\n",
      "e\n",
      "drop 1 samples by clinical data missing\n"
     ]
    }
   ],
   "source": [
    "# process data for analysis\n",
    "dat.processing(file_ann=file_ann,quantile=True, combat=True, cutoff=1.0, intersection=True, batch_target=[\"plate\"], par_prioe=False)"
   ]
  },
  {
   "cell_type": "code",
   "execution_count": 5,
   "metadata": {},
   "outputs": [
    {
     "name": "stdout",
     "output_type": "stream",
     "text": [
      "strategy: median\n",
      "0\n",
      "extracted genes number = 7553\n",
      "1\n",
      "extracted genes number = 4754\n",
      "2\n",
      "extracted genes number = 5629\n",
      "3\n",
      "extracted genes number = 5621\n",
      "4\n",
      "extracted genes number = 5713\n",
      "5\n",
      "extracted genes number = 5549\n",
      "standardz population control\n",
      "100standardz population control\n",
      "mix data is read as dataframe\n",
      "ref data is read as dataframe\n",
      "number of used genes = 660\n",
      "fitting method : NuSVR\n"
     ]
    }
   ],
   "source": [
    "# Estimate immune cell population\n",
    "dat.deconvolution(df_ref=file_ref)"
   ]
  },
  {
   "cell_type": "code",
   "execution_count": 6,
   "metadata": {},
   "outputs": [
    {
     "data": {
      "text/html": [
       "<div>\n",
       "<style scoped>\n",
       "    .dataframe tbody tr th:only-of-type {\n",
       "        vertical-align: middle;\n",
       "    }\n",
       "\n",
       "    .dataframe tbody tr th {\n",
       "        vertical-align: top;\n",
       "    }\n",
       "\n",
       "    .dataframe thead th {\n",
       "        text-align: right;\n",
       "    }\n",
       "</style>\n",
       "<table border=\"1\" class=\"dataframe\">\n",
       "  <tbody>\n",
       "    <tr>\n",
       "      <th>model</th>\n",
       "      <td>lifelines.CoxPHFitter</td>\n",
       "    </tr>\n",
       "    <tr>\n",
       "      <th>duration col</th>\n",
       "      <td>'OS_Time'</td>\n",
       "    </tr>\n",
       "    <tr>\n",
       "      <th>event col</th>\n",
       "      <td>'OS_Status'</td>\n",
       "    </tr>\n",
       "    <tr>\n",
       "      <th>baseline estimation</th>\n",
       "      <td>breslow</td>\n",
       "    </tr>\n",
       "    <tr>\n",
       "      <th>number of observations</th>\n",
       "      <td>398</td>\n",
       "    </tr>\n",
       "    <tr>\n",
       "      <th>number of events observed</th>\n",
       "      <td>146</td>\n",
       "    </tr>\n",
       "    <tr>\n",
       "      <th>partial log-likelihood</th>\n",
       "      <td>-756.34</td>\n",
       "    </tr>\n",
       "    <tr>\n",
       "      <th>time fit was run</th>\n",
       "      <td>2020-12-11 12:49:24 UTC</td>\n",
       "    </tr>\n",
       "  </tbody>\n",
       "</table>\n",
       "</div><table border=\"1\" class=\"dataframe\">\n",
       "  <thead>\n",
       "    <tr style=\"text-align: right;\">\n",
       "      <th style=\"min-width: 12px;\"></th>\n",
       "      <th style=\"min-width: 12px;\">coef</th>\n",
       "      <th style=\"min-width: 12px;\">exp(coef)</th>\n",
       "      <th style=\"min-width: 12px;\">se(coef)</th>\n",
       "      <th style=\"min-width: 12px;\">coef lower 95%</th>\n",
       "      <th style=\"min-width: 12px;\">coef upper 95%</th>\n",
       "      <th style=\"min-width: 12px;\">exp(coef) lower 95%</th>\n",
       "      <th style=\"min-width: 12px;\">exp(coef) upper 95%</th>\n",
       "      <th style=\"min-width: 12px;\">z</th>\n",
       "      <th style=\"min-width: 12px;\">p</th>\n",
       "      <th style=\"min-width: 12px;\">-log2(p)</th>\n",
       "    </tr>\n",
       "  </thead>\n",
       "  <tbody>\n",
       "    <tr>\n",
       "      <th>B-cells</th>\n",
       "      <td>0.08</td>\n",
       "      <td>1.08</td>\n",
       "      <td>0.18</td>\n",
       "      <td>-0.27</td>\n",
       "      <td>0.42</td>\n",
       "      <td>0.76</td>\n",
       "      <td>1.53</td>\n",
       "      <td>0.43</td>\n",
       "      <td>0.67</td>\n",
       "      <td>0.58</td>\n",
       "    </tr>\n",
       "    <tr>\n",
       "      <th>CD4</th>\n",
       "      <td>-0.27</td>\n",
       "      <td>0.76</td>\n",
       "      <td>0.19</td>\n",
       "      <td>-0.64</td>\n",
       "      <td>0.10</td>\n",
       "      <td>0.53</td>\n",
       "      <td>1.10</td>\n",
       "      <td>-1.45</td>\n",
       "      <td>0.15</td>\n",
       "      <td>2.76</td>\n",
       "    </tr>\n",
       "    <tr>\n",
       "      <th>CD8</th>\n",
       "      <td>-0.36</td>\n",
       "      <td>0.70</td>\n",
       "      <td>0.22</td>\n",
       "      <td>-0.79</td>\n",
       "      <td>0.07</td>\n",
       "      <td>0.45</td>\n",
       "      <td>1.08</td>\n",
       "      <td>-1.63</td>\n",
       "      <td>0.10</td>\n",
       "      <td>3.28</td>\n",
       "    </tr>\n",
       "    <tr>\n",
       "      <th>Monocytes</th>\n",
       "      <td>0.24</td>\n",
       "      <td>1.27</td>\n",
       "      <td>0.18</td>\n",
       "      <td>-0.11</td>\n",
       "      <td>0.59</td>\n",
       "      <td>0.89</td>\n",
       "      <td>1.81</td>\n",
       "      <td>1.33</td>\n",
       "      <td>0.18</td>\n",
       "      <td>2.45</td>\n",
       "    </tr>\n",
       "    <tr>\n",
       "      <th>NK</th>\n",
       "      <td>-0.15</td>\n",
       "      <td>0.86</td>\n",
       "      <td>0.20</td>\n",
       "      <td>-0.54</td>\n",
       "      <td>0.25</td>\n",
       "      <td>0.58</td>\n",
       "      <td>1.28</td>\n",
       "      <td>-0.73</td>\n",
       "      <td>0.47</td>\n",
       "      <td>1.10</td>\n",
       "    </tr>\n",
       "    <tr>\n",
       "      <th>Neutrophils</th>\n",
       "      <td>-0.19</td>\n",
       "      <td>0.83</td>\n",
       "      <td>0.18</td>\n",
       "      <td>-0.54</td>\n",
       "      <td>0.17</td>\n",
       "      <td>0.58</td>\n",
       "      <td>1.18</td>\n",
       "      <td>-1.03</td>\n",
       "      <td>0.30</td>\n",
       "      <td>1.73</td>\n",
       "    </tr>\n",
       "  </tbody>\n",
       "</table><br><div>\n",
       "<style scoped>\n",
       "    .dataframe tbody tr th:only-of-type {\n",
       "        vertical-align: middle;\n",
       "    }\n",
       "\n",
       "    .dataframe tbody tr th {\n",
       "        vertical-align: top;\n",
       "    }\n",
       "\n",
       "    .dataframe thead th {\n",
       "        text-align: right;\n",
       "    }\n",
       "</style>\n",
       "<table border=\"1\" class=\"dataframe\">\n",
       "  <tbody>\n",
       "    <tr>\n",
       "      <th>Concordance</th>\n",
       "      <td>0.56</td>\n",
       "    </tr>\n",
       "    <tr>\n",
       "      <th>Partial AIC</th>\n",
       "      <td>1524.67</td>\n",
       "    </tr>\n",
       "    <tr>\n",
       "      <th>log-likelihood ratio test</th>\n",
       "      <td>6.78 on 6 df</td>\n",
       "    </tr>\n",
       "    <tr>\n",
       "      <th>-log2(p) of ll-ratio test</th>\n",
       "      <td>1.55</td>\n",
       "    </tr>\n",
       "  </tbody>\n",
       "</table>\n",
       "</div>"
      ],
      "text/latex": [
       "\\begin{tabular}{lrrrrrrrrrr}\n",
       "\\toprule\n",
       "{} &  coef &  exp(coef) &  se(coef) &  coef lower 95\\% &  coef upper 95\\% &  exp(coef) lower 95\\% &  exp(coef) upper 95\\% &     z &    p &  -log2(p) \\\\\n",
       "covariate   &       &            &           &                 &                 &                      &                      &       &      &           \\\\\n",
       "\\midrule\n",
       "B-cells     &  0.08 &       1.08 &      0.18 &           -0.27 &            0.42 &                 0.76 &                 1.53 &  0.43 & 0.67 &      0.58 \\\\\n",
       "CD4         & -0.27 &       0.76 &      0.19 &           -0.64 &            0.10 &                 0.53 &                 1.10 & -1.45 & 0.15 &      2.76 \\\\\n",
       "CD8         & -0.36 &       0.70 &      0.22 &           -0.79 &            0.07 &                 0.45 &                 1.08 & -1.63 & 0.10 &      3.28 \\\\\n",
       "Monocytes   &  0.24 &       1.27 &      0.18 &           -0.11 &            0.59 &                 0.89 &                 1.81 &  1.33 & 0.18 &      2.45 \\\\\n",
       "NK          & -0.15 &       0.86 &      0.20 &           -0.54 &            0.25 &                 0.58 &                 1.28 & -0.73 & 0.47 &      1.10 \\\\\n",
       "Neutrophils & -0.19 &       0.83 &      0.18 &           -0.54 &            0.17 &                 0.58 &                 1.18 & -1.03 & 0.30 &      1.73 \\\\\n",
       "\\bottomrule\n",
       "\\end{tabular}\n"
      ],
      "text/plain": [
       "<lifelines.CoxPHFitter: fitted with 398 total observations, 252 right-censored observations>\n",
       "             duration col = 'OS_Time'\n",
       "                event col = 'OS_Status'\n",
       "      baseline estimation = breslow\n",
       "   number of observations = 398\n",
       "number of events observed = 146\n",
       "   partial log-likelihood = -756.34\n",
       "         time fit was run = 2020-12-11 12:49:24 UTC\n",
       "\n",
       "---\n",
       "              coef  exp(coef)   se(coef)   coef lower 95%   coef upper 95%  exp(coef) lower 95%  exp(coef) upper 95%\n",
       "covariate                                                                                                           \n",
       "B-cells       0.08       1.08       0.18            -0.27             0.42                 0.76                 1.53\n",
       "CD4          -0.27       0.76       0.19            -0.64             0.10                 0.53                 1.10\n",
       "CD8          -0.36       0.70       0.22            -0.79             0.07                 0.45                 1.08\n",
       "Monocytes     0.24       1.27       0.18            -0.11             0.59                 0.89                 1.81\n",
       "NK           -0.15       0.86       0.20            -0.54             0.25                 0.58                 1.28\n",
       "Neutrophils  -0.19       0.83       0.18            -0.54             0.17                 0.58                 1.18\n",
       "\n",
       "                z    p   -log2(p)\n",
       "covariate                        \n",
       "B-cells      0.43 0.67       0.58\n",
       "CD4         -1.45 0.15       2.76\n",
       "CD8         -1.63 0.10       3.28\n",
       "Monocytes    1.33 0.18       2.45\n",
       "NK          -0.73 0.47       1.10\n",
       "Neutrophils -1.03 0.30       1.73\n",
       "---\n",
       "Concordance = 0.56\n",
       "Partial AIC = 1524.67\n",
       "log-likelihood ratio test = 6.78 on 6 df\n",
       "-log2(p) of ll-ratio test = 1.55"
      ]
     },
     "metadata": {},
     "output_type": "display_data"
    }
   ],
   "source": [
    "# analysis 1\n",
    "dat.add_immune(method=\"IQR\", iqrco=0.5)"
   ]
  },
  {
   "cell_type": "code",
   "execution_count": 10,
   "metadata": {},
   "outputs": [
    {
     "data": {
      "image/png": "[encoded data removed]",
      "text/plain": [
       "<Figure size 432x288 with 1 Axes>"
      ]
     },
     "metadata": {
      "needs_background": "light"
     },
     "output_type": "display_data"
    }
   ],
   "source": [
    "# plot interesting immune classification\n",
    "dat.plot_KM_immune(target=[\"CD4\",\"CD8\"])"
   ]
  },
  {
   "cell_type": "code",
   "execution_count": 8,
   "metadata": {},
   "outputs": [],
   "source": [
    "# Export files to folder path\n",
    "dat.export_path(folder)"
   ]
  },
  {
   "cell_type": "code",
   "execution_count": 9,
   "metadata": {},
   "outputs": [
    {
     "data": {
      "text/plain": [
       "Index(['RAB4B', 'TIGAR', 'RNF44', 'RPL23A', 'ARL8B', 'MFSD3', 'PIGV', 'RMND5A',\n",
       "       'RAD23A', 'SIN3B',\n",
       "       ...\n",
       "       'ELOVL6', 'CABIN1', 'CNDP2', 'IL15RA', 'ELAVL1', 'RBAK', 'ARHGAP21',\n",
       "       'POMZP3', 'CYP4F2', 'PPP6R1'],\n",
       "      dtype='object', length=9800)"
      ]
     },
     "execution_count": 9,
     "metadata": {},
     "output_type": "execute_result"
    }
   ],
   "source": [
    "dat.get_transcript().index"
   ]
  }
 ],
 "metadata": {
  "kernelspec": {
   "display_name": "Python 3",
   "language": "python",
   "name": "python3"
  },
  "language_info": {
   "codemirror_mode": {
    "name": "ipython",
    "version": 3
   },
   "file_extension": ".py",
   "mimetype": "text/x-python",
   "name": "python",
   "nbconvert_exporter": "python",
   "pygments_lexer": "ipython3",
   "version": "3.7.9"
  }
 },
 "nbformat": 4,
 "nbformat_minor": 4
}
